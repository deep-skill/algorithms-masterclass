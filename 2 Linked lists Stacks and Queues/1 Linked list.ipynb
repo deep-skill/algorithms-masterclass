{
 "cells": [
  {
   "cell_type": "markdown",
   "metadata": {},
   "source": [
    "# Linked list\n",
    "\n",
    "Una lista enlazada es una estructura de datos lineal compuesta por *nodos*. Cada nodo contiene un valor (*data*) y una referencia al siguiente nodo (*next*) en la secuencia.\n",
    "\n",
    "<img src=\"Images/linked_list.jpg\" width=800>\n",
    "\n",
    "Veamos la implementación en Python. Primero debemos crear la clase Node (nodo):"
   ]
  },
  {
   "cell_type": "code",
   "execution_count": null,
   "metadata": {},
   "outputs": [],
   "source": [
    "class Node:\n",
    "    def __init__(self, data=None):\n",
    "        self.data = data               # Valor del nodo\n",
    "        self.next = None               # Referencia al siguiente nodo"
   ]
  },
  {
   "cell_type": "markdown",
   "metadata": {},
   "source": [
    "Ahora crearemos una clase LinkedList que inicialmente se encuentra vacía y un método que nos permita añadir nodos al final de la estructura:"
   ]
  },
  {
   "cell_type": "code",
   "execution_count": null,
   "metadata": {},
   "outputs": [],
   "source": [
    "class LinkedList:\n",
    "    def __init__(self):\n",
    "        self.head = None            # Head es una referencia al primer nodo de la lista enlazada\n",
    "                                    # inicialmente se encuentra vacía, por ello apunta a None\n",
    "\n",
    "    def add_node(self, data):       # Añadir nodo con el valor (o llave) 'data' al final de la lista\n",
    "        new_node = Node(data)       # Creamos un nodo con ese valor\n",
    "        \n",
    "        if not self.head:           # Si la lista está vacía, simplemente referenciamos self.head a este nuevo nodo\n",
    "            self.head = new_node  \n",
    "            return\n",
    "        \n",
    "        last = self.head            # Sabemos que el último nodo de la lista enlazada siempre referencia a None\n",
    "        while last.next:            # Por lo que iteramos sobre la lista hasta encontrar un nodo que referencia a None\n",
    "            last = last.next        \n",
    "\n",
    "        last.next = new_node        # Enlazamos el último nodo con el nuevo nodo\n",
    "\n",
    "    def print_list(self):\n",
    "        current_node = self.head\n",
    "\n",
    "        # Para imprimir la lista iteramos sobre la lista enlazada desde el primer nodo\n",
    "        # Imprimimos la data de cada nodo y pasamos al siguiente, hasta que el 'current_node' sea None\n",
    "\n",
    "        while current_node:\n",
    "            print(current_node.data, end='->')\n",
    "            current_node = current_node.next\n",
    "\n",
    "        print('None')"
   ]
  },
  {
   "cell_type": "code",
   "execution_count": null,
   "metadata": {},
   "outputs": [],
   "source": [
    "linked_list = LinkedList()\n",
    "\n",
    "linked_list.add_node(1)\n",
    "linked_list.add_node(2)\n",
    "linked_list.add_node(3)\n",
    "\n",
    "linked_list.print_list()\n",
    "\n",
    "linked_list.add_node(4)\n",
    "linked_list.add_node(5)\n",
    "\n",
    "linked_list.print_list()"
   ]
  },
  {
   "cell_type": "markdown",
   "metadata": {},
   "source": [
    "A diferencia de una lista de Python, una lista enlazada no puede acceder a un elemento por índice en tiempo constante ($O(1)$). Debemos iterar desde el primer nodo hasta llegar al K-ésimo nodo y esto tomará un tiempo lineal ($O(n)$). Sin embargo, el beneficio de una lista enlazada es que podemos añadir y eliminar elementos (nodos) al inicio de la lista en tiempo constante.\n",
    "\n",
    "Ahora añadamos un método de eliminar nodos:"
   ]
  },
  {
   "cell_type": "code",
   "execution_count": null,
   "metadata": {},
   "outputs": [],
   "source": [
    "class LinkedList:\n",
    "    def __init__(self):\n",
    "        self.head = None\n",
    "\n",
    "    def add_node(self, data):       \n",
    "        new_node = Node(data)       \n",
    "        \n",
    "        if not self.head:           \n",
    "            self.head = new_node  \n",
    "            return\n",
    "        \n",
    "        last = self.head            \n",
    "        while last.next:            \n",
    "            last = last.next        \n",
    "\n",
    "        last.next = new_node\n",
    "\n",
    "    def remove_node(self, data):\n",
    "        # Caso de la lista vacía\n",
    "        if not self.head:\n",
    "            return\n",
    "        \n",
    "        # Si la 'data' coincide en el 'head' de la lista, al eliminar este nodo, el nuevo nodo 'head'\n",
    "        # será el siguiente elemento, por lo que simplemente hacemos que 'head' ahora referencie al siguiente nodo\n",
    "\n",
    "        if self.head.data == data:\n",
    "            self.head = self.head.next\n",
    "\n",
    "        \n",
    "        current = self.head         # Nodo actual\n",
    "        prev = None                 # Nodo anterior\n",
    "\n",
    "        # Buscamos el nodo con valor 'data'\n",
    "        while current and current.data != data:\n",
    "            prev = current\n",
    "            current = current.next\n",
    "\n",
    "        # Si no se encontró el nodo, terminamos la ejecución\n",
    "        if not current:\n",
    "            return\n",
    "        \n",
    "        # En otro caso, enlazamos el anterior nodo (prev) con el siguiente nodo (current.next)\n",
    "        prev.next = current.next\n",
    "\n",
    "    def get_kth(self, k):\n",
    "        # Lista vacía\n",
    "        if not self.head:\n",
    "            return None\n",
    "        \n",
    "        current = self.head\n",
    "\n",
    "        for _ in range(k):\n",
    "            if current:\n",
    "                current = current.next\n",
    "\n",
    "        if current:\n",
    "            return current.data\n",
    "        else:\n",
    "            return None\n",
    "\n",
    "    def print_list(self):\n",
    "        current_node = self.head\n",
    "\n",
    "        while current_node:\n",
    "            print(current_node.data, end='->')\n",
    "            current_node = current_node.next\n",
    "\n",
    "        print('None')"
   ]
  },
  {
   "cell_type": "code",
   "execution_count": null,
   "metadata": {},
   "outputs": [],
   "source": [
    "linked_list = LinkedList()\n",
    "\n",
    "linked_list.add_node(1)\n",
    "linked_list.add_node(2)\n",
    "linked_list.add_node(3)\n",
    "\n",
    "print(linked_list.get_kth(1))\n",
    "linked_list.print_list()\n",
    "\n",
    "linked_list.add_node(4)\n",
    "linked_list.add_node(5)\n",
    "\n",
    "print(linked_list.get_kth(4))\n",
    "linked_list.print_list()\n",
    "\n",
    "linked_list.remove_node(1)\n",
    "linked_list.print_list()\n",
    "\n",
    "linked_list.remove_node(4)\n",
    "linked_list.print_list()"
   ]
  }
 ],
 "metadata": {
  "kernelspec": {
   "display_name": ".env",
   "language": "python",
   "name": "python3"
  },
  "language_info": {
   "codemirror_mode": {
    "name": "ipython",
    "version": 3
   },
   "file_extension": ".py",
   "mimetype": "text/x-python",
   "name": "python",
   "nbconvert_exporter": "python",
   "pygments_lexer": "ipython3",
   "version": "3.11.7"
  }
 },
 "nbformat": 4,
 "nbformat_minor": 2
}
