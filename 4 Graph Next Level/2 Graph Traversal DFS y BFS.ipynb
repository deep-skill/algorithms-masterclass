{
 "cells": [
  {
   "cell_type": "markdown",
   "metadata": {},
   "source": [
    "# Recorrimiento de Grafos\n",
    "\n",
    "Para recorrer una estructura lineal, por ejemplo, listas, tuplas, strings, diccionarios, etc es sencillo. Por lo general, podemos usar algún bucle (como *for* en Python) para recorrer o iterar por cada uno de los elementos de la estructura. Sin embargo, en los grafos no es tan sencillo, pues no son estructuras lineales. Existen distintos métodos para recorrer grafos, los dos más importantes son:\n",
    "\n",
    "- Depth First Search (Primera búsqueda en profundidad)\n",
    "- Breadth First Search (Primer búsqueda en amplitud)\n"
   ]
  },
  {
   "cell_type": "markdown",
   "metadata": {},
   "source": [
    "## Depth First Search (DFS)\n",
    "\n",
    "Imaginemos que nos encontramos en un laberinto. Nos ubican en alguna posición inicial y debemos encontrar la salida a este laberinto. En la posición actual, tenemos varios caminos a elegir (bifurcaciones). Para encontrar la salida, podemos optar por la siguiente estrategia: escogemos algún camino y avanzamos, si encontramos la salida, entonces salimos del laberinto; en otro caso (callejón sin salida), *retrocedemos* hasta encontrar algún camino aun no visitado. De esta manera, podemos recorrer por todos los caminos posibles del laberinto. En algún momento, encontraremos la salida. El DFS usa una estrategia similar a la mencionada.\n",
    "\n",
    "El algoritmo DFS funciona de la siguiente manera:\n",
    "\n",
    "- Iniciamos en algún nodo del grafo\n",
    "- Visitamos este nodo y lo marcamos como visitado\n",
    "- Elegimos algún nodo vecino\n",
    "- Repite el proceso desde este nuevo nodo adyacente\n",
    "- Si llegamos a un nodo que no tenga vecinos sin visitar (un callejón sin salida), *retrocedemos* al nodo anterior (con la esperanza de que este tenga nodos aun no visitados)\n",
    "- Continuamos este proceso hasta que todos los nodos hayan sido visitados\n",
    "\n",
    "El algoritmo DFS puede sonar complicado de implementar, pero en realidad solo necesitamos muy pocas líneas de código para su implementación (por lo general, su implementación se realiza de forma recursiva):"
   ]
  },
  {
   "cell_type": "code",
   "execution_count": null,
   "metadata": {},
   "outputs": [],
   "source": [
    "# v es el nodo actual\n",
    "# adjacency_list es la lista de adyecencia que representa al grafo\n",
    "# visited es una lista de booleanos que nos indica si el nodo ha sido visitado o no\n",
    "\n",
    "def dfs(v, adjacency_list, visited):\n",
    "    # Marcamos como visitado el nodo actual\n",
    "    visited[v] = True\n",
    "    print('Node =', v)\n",
    "\n",
    "    # Iteramos por los vecinos de v\n",
    "    for u in adjacency_list[v]:\n",
    "        # Si el nodo a sido visitado, lo ignoramos\n",
    "        if visited[u]: continue\n",
    "\n",
    "        # En otro caso, visitamos ese nodo\n",
    "        dfs(u, adjacency_list, visited)"
   ]
  },
  {
   "cell_type": "code",
   "execution_count": null,
   "metadata": {},
   "outputs": [],
   "source": [
    "n = 6\n",
    "m = 6\n",
    "edges = [(2, 1), (1, 3), (4, 2), (3, 2), (5, 4), (4, 6)]\n",
    "\n",
    "adjacency_list = [[] for _ in range(n)]\n",
    "\n",
    "for u, v in edges:\n",
    "    u = u-1\n",
    "    v = v-1\n",
    "\n",
    "    adjacency_list[u].append(v)\n",
    "    adjacency_list[v].append(u)\n",
    "\n",
    "visited = [False for _ in range(n)]\n",
    "\n",
    "dfs(0, adjacency_list, visited)"
   ]
  },
  {
   "cell_type": "markdown",
   "metadata": {},
   "source": [
    "## Breadth First Search\n",
    "\n",
    "Supongamos que estamos inscritos en alguna red social. La red social permite añadir a otras personas como amigos. Podemos modelar esta red social con ayuda de un grafo. Las personas las veremos como nodos y si dos personas son amigas, entonces existirá una arista entre estos dos nodos. Una manera de recorrer por este grafo, sería de la siguiente manera: primero visito alguna persona (o nodo), luego visito a todos sus amigos, después visito a los amigos de sus amigos, y así hasta visitar a todas las personas (todos los nodos). Esta es la idea principal del BFS. \n",
    "\n",
    "- Iniciamos en algún nodo del grafo\n",
    "- Visitamos este nodo y lo marcamos como visitado\n",
    "- Colocamos todos los nodos vecinos no visitados en una cola (es decir, los *amigos* de esta persona)\n",
    "- Sacamos el siguiente nodo de la cola y lo visitamos\n",
    "- Repetimos el proceso para este nuevo nodo, colocando todos sus vecinos no visitados al final de la cola\n",
    "- Continuamos este proceso hasta que todos los nodos hayan sido visitados\n",
    "\n",
    "El algoritmo BFS hace uso de una cola (podemos simular una cola con una lista) para su implementación:"
   ]
  },
  {
   "cell_type": "code",
   "execution_count": null,
   "metadata": {},
   "outputs": [],
   "source": [
    "from collections import deque\n",
    "\n",
    "def bfs(start_node, adjacency_list):\n",
    "    n = len(adjacency_list)\n",
    "    visited = [False for _ in range(n)]\n",
    "\n",
    "    visited[start_node] = True\n",
    "    queue = deque([start_node])\n",
    "\n",
    "    while queue:\n",
    "        v = queue.popleft()\n",
    "        print('Node =', v)\n",
    "\n",
    "        for u in adjacency_list[v]:\n",
    "            if visited[u]: continue\n",
    "\n",
    "            visited[u] = 1\n",
    "            queue.append(u)"
   ]
  },
  {
   "cell_type": "code",
   "execution_count": null,
   "metadata": {},
   "outputs": [],
   "source": [
    "n = 6\n",
    "m = 6\n",
    "edges = [(2, 1), (1, 3), (4, 2), (3, 2), (5, 4), (4, 6)]\n",
    "\n",
    "adjacency_list = [[] for _ in range(n)]\n",
    "\n",
    "for u, v in edges:\n",
    "    u = u-1\n",
    "    v = v-1\n",
    "\n",
    "    adjacency_list[u].append(v)\n",
    "    adjacency_list[v].append(u)\n",
    "\n",
    "visited = [False for _ in range(n)]\n",
    "\n",
    "bfs(0, adjacency_list)"
   ]
  }
 ],
 "metadata": {
  "kernelspec": {
   "display_name": ".env",
   "language": "python",
   "name": "python3"
  },
  "language_info": {
   "codemirror_mode": {
    "name": "ipython",
    "version": 3
   },
   "file_extension": ".py",
   "mimetype": "text/x-python",
   "name": "python",
   "nbconvert_exporter": "python",
   "pygments_lexer": "ipython3",
   "version": "3.11.9"
  }
 },
 "nbformat": 4,
 "nbformat_minor": 2
}
