{
 "cells": [
  {
   "cell_type": "markdown",
   "metadata": {},
   "source": [
    "# Min Heap\n",
    "\n",
    "Un min-heap es un *árbol binario completo* donde cada nodo es mejor que sus hijos. Por tanto, la raíz es el mínimo elemento del árbol.\n",
    "\n",
    "Esta estructura puede realizar tres tipos de operaciones:\n",
    "\n",
    "1. Insertar nodos al ábol binario\n",
    "2. Consultar por el nodo con valor mínimo (raíz)\n",
    "3. Eliminar el nodo con valor mínimo (raíz)\n",
    "\n",
    "Al insertar un nuevo nodo al árbol, este se encontrará al final del *heap*, es decir, en la posición más a la derecha del último nivel. Comparamos el nuevo nodo con el padre. Si el padre es mayor a este nodo, intercambiamos los nodos. Así sucesivamente, hasta que lleguemos a la raíz o el padre sea menor a este nodo (*heapify up*). De esta manera, mantemos la propiedad del *heap*.\n",
    "\n",
    "Cuando eliminamos al nodo con valor mínimo, el cual es la raíz, intercambiamos el último nodo del *heap* con la raíz. Ahora, desde la raíz, intercambiamos el nodo con el nodo hijo de menor valor (*heapify down*). Con esto, conservamos la propiedad del *heap*."
   ]
  },
  {
   "cell_type": "code",
   "execution_count": 1,
   "metadata": {},
   "outputs": [],
   "source": [
    "class MinHeap:\n",
    "    def __init__(self):\n",
    "        self.heap = []\n",
    "\n",
    "    def parent(self, i):\n",
    "        return (i - 1) // 2\n",
    "    \n",
    "    def left_child(self, i):\n",
    "        return 2 * i + 1\n",
    "    \n",
    "    def right_child(self, i):\n",
    "        return 2 * i + 2\n",
    "    \n",
    "    def insert(self, key):\n",
    "        self.heap.append(key)\n",
    "        self._heapify_up(len(self.heap)-1)\n",
    "\n",
    "    def _heapify_up(self, index):\n",
    "        parent_index = self.parent(index)\n",
    "        if index > 0 and self.heap[index] < self.heap[parent_index]:\n",
    "            self.heap[index], self.heap[parent_index] = self.heap[parent_index], self.heap[index]\n",
    "            self._heapify_up(parent_index)\n",
    "\n",
    "    def top(self):\n",
    "        if len(self.heap) == 0:\n",
    "            return None\n",
    "        else:\n",
    "            return self.heap[0]\n",
    "        \n",
    "    def pop(self):\n",
    "        if len(self.heap) == 0:\n",
    "            return None\n",
    "        if len(self.heap) == 1:\n",
    "            return self.head.pop()\n",
    "        \n",
    "        root = self.heap[0]\n",
    "        self.heap[0] = self.heap.pop()\n",
    "        self._hapify_down(0)\n",
    "        return root\n",
    "    \n",
    "    def _heapify_down(self, index):\n",
    "        smallest = index\n",
    "        left = self.left_child(index)\n",
    "        right = self.right_child(index)\n",
    "\n",
    "        if left < len(self.heap) and self.heap[left] < self.heap[smallest]:\n",
    "            smallest = left\n",
    "        if right < len(self.heap) and self.heap[right] < self.heap[smallest]:\n",
    "            smallest = right\n",
    "\n",
    "        if smallest != index:\n",
    "            self.heap[index], self.heap[smallest] = self.heap[smallest], self.heap[index]\n",
    "            self._heapify_down(smallest)"
   ]
  }
 ],
 "metadata": {
  "kernelspec": {
   "display_name": ".env",
   "language": "python",
   "name": "python3"
  },
  "language_info": {
   "codemirror_mode": {
    "name": "ipython",
    "version": 3
   },
   "file_extension": ".py",
   "mimetype": "text/x-python",
   "name": "python",
   "nbconvert_exporter": "python",
   "pygments_lexer": "ipython3",
   "version": "3.11.7"
  }
 },
 "nbformat": 4,
 "nbformat_minor": 2
}
