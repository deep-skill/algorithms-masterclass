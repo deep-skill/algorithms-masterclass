{
 "cells": [
  {
   "cell_type": "markdown",
   "metadata": {},
   "source": [
    "# Tree\n",
    "\n",
    "Un árbol es un grafo, es decir está compuestos por nodos y aristas (conexión entre dos nodos). Una propiedad importante de los árboles es que son **acíclicos**, es decir, no poseen ciclos. Además, si un árbol tiene $n$ nodos, su cantidad de aristas debe ser $n-1$. Si un grafo está compuesto por varios árboles, se le denomina **forest**.\n",
    "\n",
    "Es común definir a un nodo del árbol como su **raíz** (usualmente lo hacemos en programación, pues facilita las operaciones sobre árboles). Entonces, podemos definir al árbol de la siguiente manera:\n",
    "\n",
    "- Cada árbol tiene un nodo raíz.\n",
    "- El nodo raíz tiene cero o más *nodos hijos*\n",
    "- Cada nodo hijo tiene cero o más *nodos hijos*, y así.\n",
    "\n",
    "Implementación en Python:"
   ]
  },
  {
   "cell_type": "code",
   "execution_count": 2,
   "metadata": {},
   "outputs": [],
   "source": [
    "class Node:\n",
    "    def __init__(self, value):\n",
    "        self.value = value\n",
    "        self.children = []\n",
    "\n",
    "\n",
    "class Tree:\n",
    "    def __init__(self):\n",
    "        self.root = None"
   ]
  },
  {
   "cell_type": "markdown",
   "metadata": {},
   "source": [
    "# Binary Trees\n",
    "\n",
    "Los árboles binarios son aquellos donde cada nodo tiene a lo más dos nodos hijos. Una manera usual de representar a los nodos de un árbol binario, es definir dos atributos *left* y *right* que referencian a los dos hijos del nodo (también podemos dejarlo como una lista de hijos). Por lo usual, no hay diferencia entre el hijo *left* y *right*. Ambos inicializan como vacíos (*None*) y si llega un nuevo nodo hijos, por lo general, se le asigna primero a *left*, y si esté ya no es vacío, entonces se le asigna a *right*."
   ]
  },
  {
   "cell_type": "code",
   "execution_count": 3,
   "metadata": {},
   "outputs": [],
   "source": [
    "class Node:\n",
    "    def __init__(self, value):\n",
    "        self.value = value\n",
    "\n",
    "        self.left = None\n",
    "        self.right = None"
   ]
  },
  {
   "cell_type": "markdown",
   "metadata": {},
   "source": [
    "# Binary Search Trees\n",
    "\n",
    "Los *árboles de búsqueda binaria* (binary search trees) son árboles binarios, donde cada nodo tiene una propiedad específica de orden: todos los valores de los descendientes de la *izquierda* $\\le$ valor del nodo actual $\\le$ todos los valores de los descendientes de la *derecha*. Esta propiedad debe ser cierta para cada nodo del árbol.\n",
    "\n",
    "Los *binary serach trees* usualmente cuentan con las siguientes tres operaciones:\n",
    "\n",
    "1. Insertar un valor a la estructura\n",
    "2. Buscar si se encuentra un valor en la estructura\n",
    "3. Eliminar un valor de la estructura"
   ]
  },
  {
   "cell_type": "code",
   "execution_count": 5,
   "metadata": {},
   "outputs": [],
   "source": [
    "class Node:\n",
    "    def __init__(self, value):\n",
    "        self.value = value\n",
    "        \n",
    "        self.left = None\n",
    "        self.right = None\n",
    "\n",
    "\n",
    "class BinarySearchTree:\n",
    "    def __init__(self, value):\n",
    "        self.root = None\n",
    "\n",
    "    def insert(self, value):\n",
    "        if self.root is None:\n",
    "            self.root = Node(value)\n",
    "        else:\n",
    "            self._insert(self, value, self.root)\n",
    "\n",
    "    def _insert(self, value, current_node):\n",
    "        if value < current_node.value:\n",
    "            if current_node.left is None:\n",
    "                current_node.left = Node(value)\n",
    "            else:\n",
    "                self._insert(value, current_node.left)\n",
    "        else:\n",
    "            if current_node.right is None:\n",
    "                current_node.right = Node(value)\n",
    "            else:\n",
    "                self._insert(value, current_node.right)\n",
    "\n",
    "    def find(self, value):\n",
    "        return self._find(value, self.root)\n",
    "    \n",
    "    def _find(self, value, current_node):\n",
    "        if current_node is None:\n",
    "            return False\n",
    "        if value == current_node.value:\n",
    "            return True\n",
    "        if value < current_node.value:\n",
    "            return self._find(value, current_node.left)\n",
    "        else:\n",
    "            return self._find(value, current_node.right)\n",
    "        \n",
    "    def erase(self, value):\n",
    "        self.root = self._erase(value, self.root)\n",
    "\n",
    "    def _erase(self, value, current_node):\n",
    "        if current_node is None:\n",
    "            return current_node\n",
    "        \n",
    "        if value < current_node.value:\n",
    "            current_node.left = self._erase(value, current_node.left)\n",
    "        elif value > current_node.value:\n",
    "            current_node.right = self._erase(value, current_node.right)\n",
    "        else:\n",
    "            if current_node.left is None and current_node.right is None:\n",
    "                return None\n",
    "            elif current_node.left is None:\n",
    "                return current_node.right\n",
    "            elif current_node.right is None:\n",
    "                return current_node.left\n",
    "            else:\n",
    "                minimum_node = self._find_minimum(current_node.right)\n",
    "                current_node.value = minimum_node.value\n",
    "                current_node.right = self._erase(minimum_node.value, current_node.right)\n",
    "    \n",
    "        return current_node\n",
    "\n",
    "    def _find_minimum(self, node):\n",
    "        current_node = node\n",
    "\n",
    "        while current_node.left is not None:\n",
    "            current_node = current_node.left\n",
    "\n",
    "        return current_node"
   ]
  },
  {
   "cell_type": "markdown",
   "metadata": {},
   "source": [
    "La complejidad computacional de estas tres operaciones, en el peor caso, es de $O(n)$. Sin embargo, existen variantes de los árboles de búsqueda binaria que se autoequilibran ([árboles balanceados](https://www.geeksforgeeks.org/balanced-binary-tree/)). Ejemplos de estos son [AVL tree](https://es.wikipedia.org/wiki/Árbol_AVL) y [Red Black Tree](https://es.wikipedia.org/wiki/Árbol_rojo-negro) (`std::set` de c++). En estas estructuras, la complejidad algorítmica de las operaciones de inserción, búsqueda y eliminación es de $O(\\log n)$"
   ]
  }
 ],
 "metadata": {
  "kernelspec": {
   "display_name": ".env",
   "language": "python",
   "name": "python3"
  },
  "language_info": {
   "codemirror_mode": {
    "name": "ipython",
    "version": 3
   },
   "file_extension": ".py",
   "mimetype": "text/x-python",
   "name": "python",
   "nbconvert_exporter": "python",
   "pygments_lexer": "ipython3",
   "version": "3.11.7"
  }
 },
 "nbformat": 4,
 "nbformat_minor": 2
}
