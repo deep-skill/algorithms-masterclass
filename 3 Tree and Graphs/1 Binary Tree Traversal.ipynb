{
 "cells": [
  {
   "cell_type": "markdown",
   "metadata": {},
   "source": [
    "# Binary Tree Traversal\n",
    "\n",
    "Existen tres maneras de iterar sobre un *binary tree*: in-order, post-order, y pre-order. El más común de estos tres es el in-order traversal."
   ]
  },
  {
   "cell_type": "markdown",
   "metadata": {},
   "source": [
    "## In-order traversal\n",
    "\n",
    "Left Node $\\Rightarrow$ Current Node $\\Rightarrow$ Right Node"
   ]
  },
  {
   "cell_type": "code",
   "execution_count": 1,
   "metadata": {},
   "outputs": [],
   "source": [
    "def in_order_traversal(current_node):\n",
    "    if current_node is not None:\n",
    "        in_order_traversal(current_node.left)\n",
    "\n",
    "        print(current_node.value)\n",
    "\n",
    "        in_order_traversal(current_node.right)"
   ]
  },
  {
   "cell_type": "markdown",
   "metadata": {},
   "source": [
    "## Pre-order traversal\n",
    "\n",
    "Current Node $\\Rightarrow$ Left Node $\\Rightarrow$ Right Node"
   ]
  },
  {
   "cell_type": "code",
   "execution_count": 2,
   "metadata": {},
   "outputs": [],
   "source": [
    "def pre_order_traversal(current_node):\n",
    "    if current_node is not None:\n",
    "        print(current_node.value)\n",
    "        \n",
    "        pre_order_traversal(current_node.left)\n",
    "\n",
    "        pre_order_traversal(current_node.right)"
   ]
  },
  {
   "cell_type": "markdown",
   "metadata": {},
   "source": [
    "## Post-order traversal\n",
    "\n",
    "Left Node $\\Rightarrow$ Right Node $\\Rightarrow$ Current Node "
   ]
  },
  {
   "cell_type": "code",
   "execution_count": 3,
   "metadata": {},
   "outputs": [],
   "source": [
    "def post_order_traversal(current_node):\n",
    "    if current_node is not None:\n",
    "        post_order_traversal(current_node.left)\n",
    "\n",
    "        post_order_traversal(current_node.right)\n",
    "\n",
    "        print(current_node.value)"
   ]
  },
  {
   "cell_type": "markdown",
   "metadata": {},
   "source": [
    "<img src=\"Images/traversal.jpeg\" width=600>"
   ]
  }
 ],
 "metadata": {
  "kernelspec": {
   "display_name": ".env",
   "language": "python",
   "name": "python3"
  },
  "language_info": {
   "codemirror_mode": {
    "name": "ipython",
    "version": 3
   },
   "file_extension": ".py",
   "mimetype": "text/x-python",
   "name": "python",
   "nbconvert_exporter": "python",
   "pygments_lexer": "ipython3",
   "version": "3.11.7"
  }
 },
 "nbformat": 4,
 "nbformat_minor": 2
}
