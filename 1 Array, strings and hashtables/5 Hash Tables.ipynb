{
 "cells": [
  {
   "cell_type": "markdown",
   "metadata": {},
   "source": [
    "# Hash table\n",
    "\n",
    "La **tabla hash (hash table)** es una estructura de datos que relaciona parejas de datos: una llave y un valor (las llaves son únicas). Para poder acceder al **valor** necesitaremos consultar a la estructura usando la **llave**. Muchos lenguajes de programación contienen esta estructura ya implementada.\n",
    "\n",
    "1. Python $\\Rightarrow$ `<class 'dict'>`\n",
    "2. C++ $\\Rightarrow$ `std::unordered_map`\n",
    "3. Java $\\Rightarrow$ `HashMap` o `Hashtable`\n",
    "\n",
    "Veamos el uso de una tabla hash en Python:"
   ]
  },
  {
   "cell_type": "code",
   "execution_count": null,
   "metadata": {},
   "outputs": [],
   "source": [
    "# Creamos una tabla hash vacía\n",
    "\n",
    "hash_table = {}\n",
    "print(type(hash_table))\n",
    "\n",
    "# Agregamos llaves con sus respectivos valores\n",
    "\n",
    "hash_table['key1'] = 'value1'\n",
    "hash_table['key2'] = 'value2'\n",
    "hash_table['key3'] = 'value3'\n",
    "hash_table['key4'] = 'value4'\n",
    "\n",
    "# Accedemos a los valores por sus llaves\n",
    "\n",
    "print(hash_table['key2'])\n",
    "print(hash_table['key4'])\n",
    "\n",
    "# Eliminamos una llave de la tabla hash\n",
    "\n",
    "value = hash_table.pop('key3')\n",
    "print('key3' in hash_table)"
   ]
  },
  {
   "cell_type": "markdown",
   "metadata": {},
   "source": [
    "Las tablas hash tienen por lo general estas tres operaciones que vimos:\n",
    "\n",
    "1. Agregar una llave\n",
    "2. Acceder al valor de una llave\n",
    "3. Eliminar un llave\n",
    "\n",
    "Estas operaciones tienen un tiempo **promedio** de ejecución de $O(1)$. \n",
    "\n",
    "Ahora veamos cómo se construye y cómo funciona una tabla hash. Primero simulemos el funcionamiento de una tabla hash usando una lista:"
   ]
  },
  {
   "cell_type": "code",
   "execution_count": null,
   "metadata": {},
   "outputs": [],
   "source": [
    "class NaiveHashTable:\n",
    "    def __init__(self):\n",
    "        self.table = []\n",
    "\n",
    "    # Complexity: O(n)\n",
    "    def add_element(self, key, value):\n",
    "        index = -1\n",
    "\n",
    "        for i, (k, _) in enumerate(self.table):\n",
    "            if key == k:\n",
    "                index = i\n",
    "\n",
    "        if index == -1:\n",
    "            self.table.append((key, value))\n",
    "        else:\n",
    "            self.table[index] = (key, value)\n",
    "\n",
    "    # Complexity: O(n)\n",
    "    def get_value(self, key):\n",
    "        for k, v in self.table:\n",
    "            if key == k:\n",
    "                return v\n",
    "            \n",
    "    # Complexity: O(n)\n",
    "    def del_element(self, key):\n",
    "        index = -1\n",
    "\n",
    "        for i, (k, _) in enumerate(self.table):\n",
    "            if key == k:\n",
    "                index = i\n",
    "\n",
    "        if index != -1:\n",
    "            self.table.pop(index)\n",
    "\n",
    "hash_table = NaiveHashTable()\n",
    "\n",
    "hash_table.add_element('key1', 'value1')\n",
    "hash_table.add_element('key2', 'value2')\n",
    "hash_table.add_element('key3', 'value3')\n",
    "hash_table.add_element('key4', 'value4')\n",
    "\n",
    "print(hash_table.get_value('key2'))\n",
    "print(hash_table.get_value('key4'))\n",
    "\n",
    "hash_table.del_element('key1')\n",
    "\n",
    "print(hash_table.get_value('key1')) # None"
   ]
  },
  {
   "cell_type": "markdown",
   "metadata": {},
   "source": [
    "Esta estructura que diseñamos simula el funcionamiento de una tabla hash, sin embargo, la complejidad computacional es $O(n)$. \n",
    "\n",
    "Ahora, construiremos una estructura más eficiente, pero vamos a considerar dos condiciones:\n",
    "1. Las llaves son **números enteros (no negativos)**.\n",
    "2. Las llaves no son números muy altos. En este caso, vamos a considerar que los valores son menores a $10^7$.\n",
    "\n",
    "Con estas dos condiciones, podemos crear una tabla hash usando simplemente una lista:"
   ]
  },
  {
   "cell_type": "code",
   "execution_count": null,
   "metadata": {},
   "outputs": [],
   "source": [
    "class HashTable_v0:\n",
    "    def __init__(self, size):\n",
    "        self.table = [None for _ in range(size)]\n",
    "\n",
    "    # Complexity: O(1)\n",
    "    def add_element(self, key, value):\n",
    "        self.table[key] = value\n",
    "\n",
    "    # Complexity: O(1)\n",
    "    def get_value(self, key):\n",
    "        return self.table[key]\n",
    "    \n",
    "    # Complexity: O(1)\n",
    "    def del_element(self, key):\n",
    "        self.table[key] = None\n",
    "\n",
    "hash_table = HashTable_v0(10000000)\n",
    "\n",
    "hash_table.add_element(4351, 'value1')\n",
    "hash_table.add_element(63243, 'value2')\n",
    "hash_table.add_element(73456, 'value3')\n",
    "hash_table.add_element(4134, 'value4')\n",
    "\n",
    "print(hash_table.get_value(4351))\n",
    "print(hash_table.get_value(73456))\n",
    "\n",
    "hash_table.del_element(63243)\n",
    "\n",
    "print(hash_table.get_value(63243)) # None"
   ]
  },
  {
   "cell_type": "markdown",
   "metadata": {},
   "source": [
    "Observamos, que con estas dos condiciones, simplemente creamos una lista de tamaño $10^7$ para simular una tabla hash. Usamos el hecho de que acceder un elemento dado el índice en una lista, tiene una complejidad $O(1)$.\n",
    "\n",
    "Para que funcione esta solución, las llaves deben de cumplir las dos condiciones anteriores. **Intentaremos forzar que toda llave cumpla ambas condiciones**. \n",
    "\n",
    "## Las llaves son números enteros\n",
    "\n",
    "Es importante que las llaves sean números, pues las usaremos como índices para acceder al valor de una lista. Para esto, usaremos una **función hash**. Una función hash es un algoritmo que toma una entrada (puede ser de cualquier tipo, por ejemplo un string) y produce un número fijo de salida, generalmente un número entero, que se usa como índice para almacenar y recuperar datos en una tabla hash. En síntesis, esta función hash nos permite \"convertir\" una entrada (llave en este caso) en un número entero (no negativo). Además, si dos objetos distintos son pasados por la función, se deben obtener resultados también distintos."
   ]
  },
  {
   "cell_type": "code",
   "execution_count": null,
   "metadata": {},
   "outputs": [],
   "source": [
    "# Este es un ejemplo de función hash. Sin embargo, no es una buena implementación, pues para cualquier objeto siempre retornará 1\n",
    "\n",
    "def dummy_hash_function(anything):\n",
    "    return 1\n",
    "\n",
    "print(dummy_hash_function('key1'))\n",
    "print(dummy_hash_function('key1'))\n",
    "print(dummy_hash_function('key1'))"
   ]
  },
  {
   "cell_type": "code",
   "execution_count": null,
   "metadata": {},
   "outputs": [],
   "source": [
    "# Python cuenta con una función hash implementada: hash\n",
    "# Observamos que para distintas llaves se generan distintos resultados\n",
    "\n",
    "print(hash('key1'))\n",
    "print(hash('key2'))\n",
    "print(hash('key3'))"
   ]
  },
  {
   "cell_type": "markdown",
   "metadata": {},
   "source": [
    "Con esto, ya podemos quitar la primera condición. Podemos transformar cualquier llave en un número entero no negativo usando la función `hash` de Python."
   ]
  },
  {
   "cell_type": "markdown",
   "metadata": {},
   "source": [
    "## Las llaves no son números muy altos\n",
    "\n",
    "La segunda condición es que las llaves no pueden ser números muy altos, pues estos serán usados como índices para acceder a elementos de una lista. Por tanto, si creamos una lista de tamaño $n$ las llaves deben ser números entre $0$ y $n-1$. Debido a que no contamos con memoria infinita, una lista debe de contenter un tamaño razonable. Observamos que la función `hash` de Python retorna valores numéricos muy altos pero nosotros queremos que pertenezca al rango $[0, n-1]$. Para esto, simplemente obtenemos el residuo entre el valor obtenido por la función y $n$:"
   ]
  },
  {
   "cell_type": "code",
   "execution_count": null,
   "metadata": {},
   "outputs": [],
   "source": [
    "n = 100000 # Supongamos que nuestra tabla hash contiene n = 10^5 elementos\n",
    "\n",
    "print(hash('key1') % n)\n",
    "print(hash('key2') % n)\n",
    "print(hash('key3') % n)"
   ]
  },
  {
   "cell_type": "markdown",
   "metadata": {},
   "source": [
    "## Implementación de una tabla hash"
   ]
  },
  {
   "cell_type": "markdown",
   "metadata": {},
   "source": [
    "Ahora que ya vimos como podemos transformar nuestra llave para que cumpla ambas condiciones, unimos todo esto en una estrctura para crear una tabla hash eficiente:"
   ]
  },
  {
   "cell_type": "code",
   "execution_count": null,
   "metadata": {},
   "outputs": [],
   "source": [
    "class HashTable_v1:\n",
    "    def __init__(self, n):\n",
    "        self.n = n\n",
    "        self.table = [None for _ in range(n)]\n",
    "\n",
    "    # Funcion hash: O(1)\n",
    "    def hash_function(self, key):\n",
    "        hash_value = hash(key) % self.n\n",
    "\n",
    "        # Puede suceder el caso donde el valor que retorna hash() sea negativo\n",
    "        # Para resolver esto, simplemente le sumamos n y aseguramos que el resultado será positivo\n",
    "        if hash_value < 0: hash_value += self.n\n",
    "\n",
    "        return hash_value\n",
    "\n",
    "    # Complexity: O(1)\n",
    "    def add_element(self, key, value):\n",
    "        key_index = self.hash_function(key)\n",
    "        self.table[key_index] = value\n",
    "\n",
    "    # Complexity: O(1)\n",
    "    def get_value(self, key):\n",
    "        key_index = self.hash_function(key)\n",
    "        return self.table[key_index]\n",
    "    \n",
    "    # Complexity: O(1)\n",
    "    def del_element(self, key):\n",
    "        key_index = self.hash_function(key)\n",
    "        self.table[key_index] = None\n",
    "\n",
    "n = 10000\n",
    "hash_table = HashTable_v1(n)\n",
    "\n",
    "hash_table.add_element('key1', 'value1')\n",
    "hash_table.add_element('key2', 'value2')\n",
    "hash_table.add_element('key3', 'value3')\n",
    "hash_table.add_element('key4', 'value4')\n",
    "\n",
    "print(hash_table.get_value('key2'))\n",
    "print(hash_table.get_value('key4'))\n",
    "\n",
    "hash_table.del_element('key1')\n",
    "\n",
    "print(hash_table.get_value('key1')) # None"
   ]
  },
  {
   "cell_type": "markdown",
   "metadata": {},
   "source": [
    "Ahora solo nos queda una problemática que resolver: las colisiones. Cuando dos objetos distintos son pasados por una función hash y se obtiene un mismo resultado. En nuestra tabla hash, se pueden dar colisiones y esto hará fallar el funcionamiento de nuestra estructura.\n",
    "\n",
    "Veamos el siguiente caso:"
   ]
  },
  {
   "cell_type": "code",
   "execution_count": null,
   "metadata": {},
   "outputs": [],
   "source": [
    "n = 10000\n",
    "hash_table = HashTable_v1(n)\n",
    "\n",
    "hash_table.add_element('aab', 'value1')\n",
    "hash_table.add_element('aem', 'value2')\n",
    "\n",
    "print(hash_table.get_value('aab')) # Se obtiene value2\n",
    "print(hash_table.get_value('aem')) # Se obtiene value2"
   ]
  },
  {
   "cell_type": "markdown",
   "metadata": {},
   "source": [
    "Hemos añadido la llave 'aae' con el valor 'value1' a nuestra tabla hash. Sin embargo, cuando consultamos por su valor, nos resulta 'value2'. ¿Por qué sucede esto? Por que ambas llaves generan el mismo resultado cuando son evaluadas por la función hash (es decir, sufren una colisión):"
   ]
  },
  {
   "cell_type": "code",
   "execution_count": null,
   "metadata": {},
   "outputs": [],
   "source": [
    "hash_value_1 = hash_table.hash_function('aab')\n",
    "hash_value_2 = hash_table.hash_function('aem')\n",
    "\n",
    "print(hash_value_1) # 3325\n",
    "print(hash_value_2) # 3325"
   ]
  },
  {
   "cell_type": "markdown",
   "metadata": {},
   "source": [
    "Esto provoca que en nuestra estructura, los valores se sobreescriban y se pierda el valor de la llave 'aae'.\n",
    "\n",
    "Una posible solución sería cambiar el valor de $n$ (ahora a 10^5):"
   ]
  },
  {
   "cell_type": "code",
   "execution_count": null,
   "metadata": {},
   "outputs": [],
   "source": [
    "n = 100000\n",
    "hash_table = HashTable_v1(n)\n",
    "\n",
    "hash_table.add_element('aab', 'value1')\n",
    "hash_table.add_element('aem', 'value2')\n",
    "\n",
    "print(hash_table.get_value('aab')) \n",
    "print(hash_table.get_value('aem')) "
   ]
  },
  {
   "cell_type": "code",
   "execution_count": null,
   "metadata": {},
   "outputs": [],
   "source": [
    "hash_value_1 = hash_table.hash_function('aab')\n",
    "hash_value_2 = hash_table.hash_function('aem')\n",
    "\n",
    "print(hash_value_1) # 33325\n",
    "print(hash_value_2) # 93325"
   ]
  },
  {
   "cell_type": "markdown",
   "metadata": {},
   "source": [
    "Pero nuevamente, podemos encontrar dos valores que colisionen y hacer fallar a nuestra estructura:"
   ]
  },
  {
   "cell_type": "code",
   "execution_count": null,
   "metadata": {},
   "outputs": [],
   "source": [
    "hash_table.add_element('afb', 'value3')\n",
    "hash_table.add_element('ari', 'value4')\n",
    "\n",
    "print(hash_table.get_value('afb')) \n",
    "print(hash_table.get_value('ari')) "
   ]
  },
  {
   "cell_type": "code",
   "execution_count": null,
   "metadata": {},
   "outputs": [],
   "source": [
    "hash_value_1 = hash_table.hash_function('afb')\n",
    "hash_value_2 = hash_table.hash_function('ari')\n",
    "\n",
    "print(hash_value_1) # 67719\n",
    "print(hash_value_2) # 67719"
   ]
  },
  {
   "cell_type": "markdown",
   "metadata": {},
   "source": [
    "Y así, para cada valor de $n$ podemos encontrar una colisión. De echo, la siguiente función encuentra una colisión para cualquier valor de $n$:"
   ]
  },
  {
   "cell_type": "code",
   "execution_count": null,
   "metadata": {},
   "outputs": [],
   "source": [
    "def find_collision(n):\n",
    "    hash_table = HashTable_v1(n)\n",
    "\n",
    "    colissions = {}\n",
    "\n",
    "    abc = 'abcdefghijklmnopqrstuvwxyz'\n",
    "\n",
    "    for c1 in abc:\n",
    "        for c2 in abc:\n",
    "            for c3 in abc:\n",
    "                s = c1 + c2 + c3\n",
    "                h = hash_table.hash_function(s)\n",
    "\n",
    "                if h not in colissions:\n",
    "                    colissions[h] = []\n",
    "\n",
    "                colissions[h].append(s)\n",
    "\n",
    "                if len(colissions[h]) > 1:\n",
    "                    return colissions[h][0], colissions[h][1]\n",
    "                    \n",
    "key1, key2 = find_collision(10000)\n",
    "print(key1, key2)\n",
    "\n",
    "key1, key2 = find_collision(100000)\n",
    "print(key1, key2)"
   ]
  },
  {
   "cell_type": "markdown",
   "metadata": {},
   "source": [
    "Ahora contemplaremos la posibilidad de que existan colisiones en mi tabla hash. Ahora guardaremos una lista para cada índice de la lista. Si existen varios objetos que apuntan a una misma posición, todos sus valores serán guardados en una lista:"
   ]
  },
  {
   "cell_type": "code",
   "execution_count": null,
   "metadata": {},
   "outputs": [],
   "source": [
    "class HashTable_v2:\n",
    "    def __init__(self, n):\n",
    "        self.n = n\n",
    "        self.table = [[] for _ in range(n)]\n",
    "\n",
    "    # Funcion hash: O(1)\n",
    "    def hash_function(self, key):\n",
    "        hash_value = hash(key) % self.n\n",
    "\n",
    "        # Puede suceder el caso donde el valor que retorna hash() sea negativo\n",
    "        # Para resolver esto, simplemente le sumamos n y aseguramos que el resultado será positivo\n",
    "        if hash_value < 0: hash_value += self.n\n",
    "\n",
    "        return hash_value\n",
    "\n",
    "    # Complexity: O(1) => Caso promedio, O(n) => Peor caso\n",
    "    def add_element(self, key, value):\n",
    "        key_index = self.hash_function(key)\n",
    "\n",
    "        index = -1\n",
    "        for i, (k, _) in enumerate(self.table[key_index]):\n",
    "            if key == k:\n",
    "                index = i\n",
    "\n",
    "        if index == -1:\n",
    "            self.table[key_index].append((key, value))\n",
    "        else:\n",
    "            self.table[key_index][index] = (key, value)\n",
    "\n",
    "    # Complexity: O(1) => Caso promedio, O(n) => Peor caso\n",
    "    def get_value(self, key):\n",
    "        key_index = self.hash_function(key)\n",
    "\n",
    "        for k, v in self.table[key_index]:\n",
    "            if key == k:\n",
    "                return v\n",
    "            \n",
    "        return None\n",
    "    \n",
    "    # Complexity: O(1) => Caso promedio, O(n) => Peor caso\n",
    "    def del_element(self, key):\n",
    "        key_index = self.hash_function(key)\n",
    "\n",
    "        index = -1\n",
    "\n",
    "        for i, (k, _) in enumerate(self.table[key_index]):\n",
    "            if key == k:\n",
    "                index = i\n",
    "\n",
    "        if index != -1:\n",
    "            self.table[key_index].pop(index)\n",
    "\n"
   ]
  },
  {
   "cell_type": "markdown",
   "metadata": {},
   "source": [
    "Podemos darnos cuenta que esta nueva implementación es una combinación de `NaiveHashTable` y `HashTable_v0`. En el caso promedio, las operaciones de esta estructura solo tomará $O(1)$. Sin embargo, en el peor de los casos (cuenta la cantidad de soluciones sea considerable) la complejidad computacional será lineal ($O(n)$)."
   ]
  },
  {
   "cell_type": "code",
   "execution_count": null,
   "metadata": {},
   "outputs": [],
   "source": [
    "n = 10000\n",
    "hash_table = HashTable_v2(n)\n",
    "\n",
    "hash_table.add_element('aab', 'value1')\n",
    "hash_table.add_element('aem', 'value2')\n",
    "hash_table.add_element('key1', 'value3')\n",
    "hash_table.add_element('key2', 'value4')\n",
    "\n",
    "print(hash_table.get_value('aab')) \n",
    "print(hash_table.get_value('aem')) \n",
    "print(hash_table.get_value('key1')) \n",
    "print(hash_table.get_value('key2')) "
   ]
  }
 ],
 "metadata": {
  "kernelspec": {
   "display_name": ".env",
   "language": "python",
   "name": "python3"
  },
  "language_info": {
   "codemirror_mode": {
    "name": "ipython",
    "version": 3
   },
   "file_extension": ".py",
   "mimetype": "text/x-python",
   "name": "python",
   "nbconvert_exporter": "python",
   "pygments_lexer": "ipython3",
   "version": "3.11.7"
  }
 },
 "nbformat": 4,
 "nbformat_minor": 2
}
