{
 "cells": [
  {
   "cell_type": "markdown",
   "metadata": {},
   "source": [
    "# Notación Big O\n",
    "\n",
    "Cuando analizamos un algoritmo debemos calcular la cantidad de operaciones que realiza en el **peor de los casos** y nos interesará ver su crecimiento con respecto a la entrada. En la anterior sección, ya analizamos un algoritmo de búsqueda lineal y mencionamos que su *complejidad computacional* es cuadrática, pues la cantidad de pasos que realiza es $n^2$. También planteamos un algoritmo más eficiente usando conjuntos que realiza $n\\log(n)$ pasos. Ahora, formalizemos este proceso.\n",
    "\n",
    "Definamos las siguientes tres operaciones como **operaciones básicas**:\n",
    "\n",
    "1. Creación y asignación de una variable\n",
    "2. Operaciones aritméticas\n",
    "3. Llamada de funciones\n",
    "\n",
    "Veamos otros ejemplos de algoritmos, y nos centraremos en calcular la cantidad de **operaciones básicas** de cada uno."
   ]
  },
  {
   "cell_type": "code",
   "execution_count": null,
   "metadata": {},
   "outputs": [],
   "source": [
    "# Algoritmo 1\n",
    "\n",
    "n = 1000             # 1 operación básica\n",
    "counter = 0          # 1 operación básica\n",
    "\n",
    "for i in range(n):   \n",
    "    counter += 1     # 1 operación básica, pero se repite N veces, por lo tanto serán en total N operaciones"
   ]
  },
  {
   "cell_type": "markdown",
   "metadata": {},
   "source": [
    "La cantidad de operaciones básicas de este algoritmo sería en total $n+2$. Esta cantidad de operaciones la representaremos en una *función matemática* en función de $n$ y la llamaremos $f_1$\n",
    "$$\n",
    "f_1(n) = n + 2\n",
    "$$"
   ]
  },
  {
   "cell_type": "code",
   "execution_count": null,
   "metadata": {},
   "outputs": [],
   "source": [
    "# Algoritmo 2\n",
    "\n",
    "n = 1000                \n",
    "counter = 0             \n",
    "\n",
    "for i in range(n):\n",
    "    for j in range(n):\n",
    "        counter += 1    "
   ]
  },
  {
   "cell_type": "markdown",
   "metadata": {},
   "source": [
    "En este caso, el contador está aumentando $n^2$ veces, por lo tanto\n",
    "$$\n",
    "f_2(n) = n ^ 2 + 2\n",
    "$$"
   ]
  },
  {
   "cell_type": "code",
   "execution_count": null,
   "metadata": {},
   "outputs": [],
   "source": [
    "# Algoritmo 3\n",
    "\n",
    "n = 1000\n",
    "counter = 0\n",
    "\n",
    "for i in range(n):\n",
    "    for j in range(i, n):\n",
    "        counter += 1"
   ]
  },
  {
   "cell_type": "markdown",
   "metadata": {},
   "source": [
    "Calcular la cantidad de pasos en este algoritmo ya no es tan sencillo de ver. Con un poco de análisis, podemos llegar a la conclusión que\n",
    "$$\n",
    "f_3(n) = \\frac{n \\cdot (n+1)}{2} + 2\n",
    "$$"
   ]
  },
  {
   "cell_type": "markdown",
   "metadata": {},
   "source": [
    "Una aproximación que nos va a ayudar a medir el tiempo de ejecución de un algoritmo es que una computadora realiza $T=10^8$ operaciones básicas por segundo (esto depende del hardware de la computadora y también del lenguaje de programación). Entonces, si la cantidad de operaciones que realiza un algoritmo está representada por $f(n)$, la cantidad de segundos que tomará en ejecutarse será\n",
    "$$\n",
    "g(n) = \\frac{f(n)}{T}\n",
    "$$"
   ]
  },
  {
   "cell_type": "markdown",
   "metadata": {},
   "source": [
    "Imaginemos que queremos calcular el valor máximo posible de $n$ tal que el algoritmo se ejecute en $1$ segundo. Es decir\n",
    "\n",
    "$$\n",
    "g(n)=1 \\Leftrightarrow \\frac{f(n)}{T} = 1 \\Leftrightarrow f(n) = T\n",
    "$$"
   ]
  },
  {
   "cell_type": "markdown",
   "metadata": {},
   "source": [
    "Ahora analizemos para nuestros algoritmos anteriores:\n",
    "\n",
    "1. $f_1(n) = T \\Rightarrow n \\approx 10^8$\n",
    "2. $f_2(n) = T \\Rightarrow n \\approx 10^4$\n",
    "\n",
    "En el caso de los dos primeros algoritmos, es sencillo calcular este valor (aproximado). Sin embargo, la tercera función ya es más compleja y para calcular el valor de $n$ debemos resolver una ecuación de segundo grado:\n",
    "\n",
    "3. $f_3(n) = T \\Rightarrow \\frac{n \\cdot (n+1)}{2} + 2 = 10^8 \\Rightarrow \\frac{1}{2} n^2 + \\frac{1}{2} n - 10 ^ 8 + 2 = 0 \\Rightarrow n \\approx 14000$\n",
    "\n",
    "En otros casos, las funciones de cantidad de operaciones básicas de los algoritmos pueden ser de un grado mayor y tendríamos que resolver ecuaciones de tercer grado, cuarto grado, etc, lo que dificultaría bastante el cálculo del valor de $n$ para determinado tiempo. "
   ]
  },
  {
   "cell_type": "markdown",
   "metadata": {},
   "source": [
    "### Notación big O\n",
    "\n",
    "Para resolver esta problemática, usaremos la **notación big O** ($O$). La notación big O es una herramienta que usualmente es usada para determinar el rendimiento o eficiencia de un algoritmo, especialmente en términos de tiempo de ejecución en función del tamaño de la entrada. Expresa el **comportamiento asintótico** (peor de los casos) del algoritmo cuando el tamaño de la entrada tiende a infinito.\n",
    "\n",
    "Supongamos que la función $f(n)$ tiene la siguiente forma (polinómica):\n",
    "\n",
    "$$\n",
    "f(n) = a_mx^m + a_{m-1}x^{m-1}+\\cdots+a_1x+a_0\n",
    "$$\n",
    "\n",
    "Solo nos quedaremos con el término que tenga **mayor crecimiento cuando $n$ tienda a infinito**. Además, no se tendrán en cuenta las constantes (como coeficientes del término). En este caso, ese término sería\n",
    "\n",
    "$$\n",
    "f(x) = x^m\n",
    "$$\n",
    "\n",
    "Con esto diremos que (en términos de la notación big O)\n",
    "\n",
    "$$\n",
    "f(x) \\in O(x^m)\n",
    "$$\n",
    "También podemos escribir que\n",
    "\n",
    "$$\n",
    "f(x) = O(x^m)\n",
    "$$\n",
    "\n",
    "Más ejemplos:\n",
    "\n",
    "- $f(n) = n! + 2\\cdot n^2 = O(n!)$\n",
    "- $f(n) = 2^n + 3\\cdot n^4 = O(2^n)$\n",
    "- $f(n) = 4\\cdot n + 3 n\\log (n) = O(n\\log (n))$\n",
    "- $f(n) = n\\sqrt{n} + \\frac{1}{2} n^2 = O(n^2)$\n",
    "- $f(n) = 10 = O(1)$"
   ]
  },
  {
   "cell_type": "markdown",
   "metadata": {},
   "source": [
    "### Ahora volvamos a nuestros algoritmos anteriores\n",
    "\n",
    "- $f_1(n) = n + 2 = O(n)$ (Complejidad lineal)\n",
    "- $f_2(n) = n^2 + 2 = O(n^2)$ (Complejidad cuadrática)\n",
    "- $f_3(n) = \\frac{n \\cdot (n+1)}{2} + 2 = O(n^2)$ (Complejidad Cuadrática)\n",
    "\n",
    "Vemos que $f_2$ y $f_3$ son iguales a $O(n^2)$, es decir, ambos algoritmos tienen una complejidad cuadrática. En términos computacionales, diremos que estos algoritmos son **igual de eficientes**. Además, solo tendremos en cuenta la notación big O para la medición de tiempos aproximadas y ya no la función de operaciones básicas. Así, como solo consideraremos un término y sin constantes, los cálculos serán más sencillos y obtendremos una buena aproximación."
   ]
  }
 ],
 "metadata": {
  "kernelspec": {
   "display_name": ".env",
   "language": "python",
   "name": "python3"
  },
  "language_info": {
   "codemirror_mode": {
    "name": "ipython",
    "version": 3
   },
   "file_extension": ".py",
   "mimetype": "text/x-python",
   "name": "python",
   "nbconvert_exporter": "python",
   "pygments_lexer": "ipython3",
   "version": "3.11.7"
  }
 },
 "nbformat": 4,
 "nbformat_minor": 2
}
