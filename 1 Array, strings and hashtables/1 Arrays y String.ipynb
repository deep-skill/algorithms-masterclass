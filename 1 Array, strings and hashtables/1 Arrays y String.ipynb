{
 "cells": [
  {
   "cell_type": "markdown",
   "metadata": {},
   "source": [
    "# Arrays\n",
    "\n",
    "Principalmente contamos con dos tipos de arrays: estáticos y dinámicos. \n",
    "\n",
    "## Arrays estáticos\n",
    "\n",
    "Los arrays *estáticos* tiene un tamaño fijo definido en tiempo de compilación. En Python, no contamos con arrays estáticos. Pero sí en otros lenguajes como Java o C++:\n",
    "\n",
    "```cpp\n",
    "\n",
    "int a[10]; // O(1) => Declaración\n",
    "\n",
    "int b[10] = {0}; // O(n) Inicialización\n",
    "\n",
    "cout << b[0] << \"\\n\"; // Indexación: O(1)\n",
    "cout << b[5] << \"\\n\";\n",
    "\n",
    "```\n",
    "\n",
    "La memoria para los arrays estáticos se asigna en la **pila** (stack).\n",
    "\n",
    "## Arrays dinámicos\n",
    "\n",
    "El tamaño de los arrays *dinámicos* se pueden definir en tiempos de ejecución. Ejemplos de estos tenemos al `std::vector<int>` de C++ o listas en python:\n",
    "\n",
    "```cpp\n",
    "\n",
    "vector<int> a(10, 0); // O(n) Inicialización\n",
    "\n",
    "a.push_back(1); // O(1) Insertar elemento al final del vector\n",
    "a.push_back(2);\n",
    "a.push_back(3);\n",
    "\n",
    "cout << a[0] << \"\\n\"; // O(1) Indexación\n",
    "cout << a.size() << \"\\n\"; // O(1) Obtener tamaño del array\n",
    "a[0] = -1; // O(1) \n",
    "\n",
    "a.pop_back(); // O(1) Eliminar elemento del final\n",
    "\n",
    "a.insert(a.begin() + 2, 5); // O(n) Insertar elemento en una posición\n",
    "a.erase(a.begin() + 2); // O(n) Eliminar elemento en una posición\n",
    "\n",
    "```\n",
    "\n",
    "Ver más: [Cpluplus vector](https://cplusplus.com/reference/vector/vector/erase/)"
   ]
  },
  {
   "cell_type": "code",
   "execution_count": null,
   "metadata": {},
   "outputs": [],
   "source": [
    "# En python\n",
    "\n",
    "number_list = [0 for _ in range(10)] # O(n)\n",
    "\n",
    "number_list.append(1) # O(1)\n",
    "number_list.append(2) # O(1)\n",
    "number_list.append(3) # O(1)\n",
    "\n",
    "print(number_list[0]) # O(1)\n",
    "print(len(number_list)) # O(1)\n",
    "\n",
    "number_list.pop() # O(1)\n",
    "\n",
    "number_list.insert(2, 5) # O(n)\n",
    "number_list.pop(2) # O(n)\n",
    "\n",
    "# MUTABILIDAD DE LAS CADENAS\n",
    "# Prueba a ejecutar el siguiente bloque de código\n",
    "\n",
    "lista_1 = [1, 2, 3, 4, 5]\n",
    "lista_2 = lista_1\n",
    "\n",
    "lista_2[0] = -1\n",
    "\n",
    "print(lista_1)\n",
    "print(lista_2)"
   ]
  },
  {
   "cell_type": "markdown",
   "metadata": {},
   "source": [
    "La memoria para los arrays dinámicos se asigna en el **heap**.\n",
    "\n",
    "Los arrays estáticos son más rápidos en acceso debido a que están en la pila y tienen menos sobrecarga de memoria. Sin embargo, esta diferencia suele ser insignificante o pequeño en la gran mayorías de casos."
   ]
  },
  {
   "cell_type": "markdown",
   "metadata": {},
   "source": [
    "# Strings\n",
    "\n",
    "Los strings (cadenas) podemos entenderlas como un vector pero de caracteres. En C++ contamos con `std::string`, mientras que en Python con `str`.\n",
    "\n",
    "Algo muy importante a tener en cuenta es que las cadenas en Python son **inmutables**. Es decir, no podemos modificar los elementos de esa cadena. Para esto, cada vez que queramos modificar sus elementos, o bien creamos una nueva cadena, o metemos los caracteres de la cadena en una lista para su fácil modificación.\n",
    "\n",
    "## En C++\n",
    "\n",
    "```cpp\n",
    "\n",
    "string s = \"cadena\"; // O(n) asignación\n",
    "\n",
    "cout << s[0] << \"\\n\"; // O(1) Indexación\n",
    "s[0] = 'k'; // O(1)\n",
    "cout << s.size() << \"\\n\"; // O(1) el tamaño de la cadena\n",
    "s.pop_back(); // O(1) eliminacion del último caracter\n",
    "\n",
    "string s1 = \"cadena1\", s2 = \"cadena2\";\n",
    "\n",
    "string t = s1 + s2; // O(|s2|) la complejidad de la concatenación dependerá del tamaño de la derecha\n",
    "\n",
    "cout << t << \"\\n\";\n",
    "\n",
    "```"
   ]
  },
  {
   "cell_type": "code",
   "execution_count": null,
   "metadata": {},
   "outputs": [],
   "source": [
    "# En Python\n",
    "\n",
    "s = \"cadena\""
   ]
  },
  {
   "cell_type": "code",
   "execution_count": null,
   "metadata": {},
   "outputs": [],
   "source": [
    "s[0] = 'k' # Error, ya que string en Python es un objeto inmutable"
   ]
  }
 ],
 "metadata": {
  "kernelspec": {
   "display_name": ".env",
   "language": "python",
   "name": "python3"
  },
  "language_info": {
   "codemirror_mode": {
    "name": "ipython",
    "version": 3
   },
   "file_extension": ".py",
   "mimetype": "text/x-python",
   "name": "python",
   "nbconvert_exporter": "python",
   "pygments_lexer": "ipython3",
   "version": "3.11.9"
  }
 },
 "nbformat": 4,
 "nbformat_minor": 2
}
