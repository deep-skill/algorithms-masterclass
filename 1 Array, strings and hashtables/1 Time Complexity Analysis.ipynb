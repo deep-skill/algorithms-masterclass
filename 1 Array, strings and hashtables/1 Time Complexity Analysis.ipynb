{
 "cells": [
  {
   "cell_type": "markdown",
   "metadata": {},
   "source": [
    "# Time Complexity\n",
    "\n",
    "En la era digital, las computadoras son increíblemente rápidas y pueden realizar cálculos en fracciones de segundo. Sin embargo, a pesar de su velocidad y eficiencia, estas máquinas tienen limitaciones intrínsecas. No todas las tareas pueden ser resueltas rápidamente por una computadora, y algunas pueden tardar un tiempo considerable en ejecutarse. Para esto, veamos el siguiente ejemplo.\n",
    "\n",
    "Imaginemos que tenemos una lista de $n$ números. Sobre esta lista vamos a consultar $n$ veces si se encuentra algún número $x$ o no.\n",
    "\n",
    "Analizemos los dos siguientes casos:"
   ]
  },
  {
   "cell_type": "markdown",
   "metadata": {},
   "source": [
    "### Caso 1"
   ]
  },
  {
   "cell_type": "code",
   "execution_count": null,
   "metadata": {},
   "outputs": [],
   "source": [
    "%%time  \n",
    "\n",
    "# Con %%time podemos determinar el tiempo de ejecución de la celda\n",
    "\n",
    "n = 50000\n",
    "numbers = [i+1 for i in range(n)] # Creamos una lista de números de 1 a N\n",
    "\n",
    "counter = 0\n",
    "\n",
    "for i in range(n):      # Vamos a buscar algún número X en la lista. Esto lo realizaremos N veces\n",
    "    x = 1               # Primero veamos el caso donde X siempre es igual a 1\n",
    "\n",
    "    if x in numbers:\n",
    "        counter += 1    # Si se encuentra el número, aumentamos en 1 el contador\n",
    "\n",
    "counter"
   ]
  },
  {
   "cell_type": "markdown",
   "metadata": {},
   "source": [
    "### Caso 2"
   ]
  },
  {
   "cell_type": "code",
   "execution_count": null,
   "metadata": {},
   "outputs": [],
   "source": [
    "%%time\n",
    "\n",
    "n = 50000\n",
    "numbers = [i+1 for i in range(n)]\n",
    "\n",
    "counter = 0\n",
    "\n",
    "for i in range(n):      \n",
    "    x = n                # Ahora X siempre será n (el último valor de la lista)\n",
    "\n",
    "    if x in numbers:\n",
    "        counter += 1    \n",
    "\n",
    "counter"
   ]
  },
  {
   "cell_type": "markdown",
   "metadata": {},
   "source": [
    "Podemos observar que claramente los tiempos de ejecución son muy distintos. El segundo caso toma mucho más tiempo en terminar de ejecutarse que el primer caso. Pero, ¿por qué sucede esto?\n",
    "\n",
    "Cuando buscamos un número $x$ en una lista (`x in numbers`), la búsqueda se realiza de manera lineal, es decir, empieza a comparar elemento por elemento con $x$, iniciando con el primer elemento de la lista, luego con el segundo elemento, despúes con el tercero, etc, hasta encontrar a uno que sea igual a $x$. Cuando se encuentra un elemento igual a $x$, la búsqueda termina.\n",
    "\n",
    "En el primer caso, como $x=1$, la búsqueda solo toma $1$ paso para encontrar a $x$ (este es el **mejor caso**). Mientras que en el caso 2, ya que $x=n$, la búqueda tomará $n$ pasos para encontrar al elemento (este es el **peor caso**).\n",
    "\n",
    "Pero estas búsquedas, se ejecutan $n$ veces en ambos casos. Por lo que, en el primer caso, la cantidad de pasos en total será $n$ y en el segundo caso, será $n^2$.\n",
    "\n",
    "Con este análisis, podemos decir que, **en el peor de los casos**, este algoritmo tomará $n^2$ pasos antes de terminar de ejecutarse (a esto se le denomina complejidad cuadrática). El análisis de la **complejidad computacional** de un algoritmo se realiza sobre la cantidad de operaciones en el peor de los casos.\n",
    "\n",
    "Veamos gráficas de tiempos de ejecución para distintos valores de $n$."
   ]
  },
  {
   "cell_type": "code",
   "execution_count": null,
   "metadata": {},
   "outputs": [],
   "source": [
    "import time \n",
    "import matplotlib.pyplot as plt"
   ]
  },
  {
   "cell_type": "code",
   "execution_count": null,
   "metadata": {},
   "outputs": [],
   "source": [
    "### CASO 1\n",
    "\n",
    "time_list = [] # Lista de tiempos\n",
    "\n",
    "# Para N de 1 a 1000\n",
    "for n in range(1, 1000):\n",
    "    start_time = time.time()\n",
    "\n",
    "    numbers = [i+1 for i in range(n)] \n",
    "\n",
    "    counter = 0\n",
    "\n",
    "    for i in range(n):      \n",
    "        x = n\n",
    "        if x in numbers:\n",
    "            counter += 1    \n",
    "\n",
    "    end_time = time.time()\n",
    "\n",
    "    time_list.append(end_time-start_time) # Medimos el tiempo de ejecucion y lo guardamos en nuestra lista de tiempos\n",
    "\n",
    "# Graficamos la lista de tiempos\n",
    "plt.xlabel('N')\n",
    "plt.ylabel('Execution time')\n",
    "plt.title('N vs Execution Time (Worst Case)')\n",
    "plt.plot(time_list)"
   ]
  },
  {
   "cell_type": "markdown",
   "metadata": {},
   "source": [
    "Podemos observar, que la gráfica resultante es similar a la de una función cuadrada. Es decir, el tiempo de ejecución con respecto a $n$ crece de manera **cuadrática**.\n",
    "\n",
    "Si queremos realizar este proceso para valores de $n$ más grandes, es una tarea que nos puede tomar mucho tiempo. Debemos encontrar formas más **eficientes** (en este contexto, diremos que un algoritmo es más eficiente que otro cuando realiza menor cantidad de operaciones en el peor de los casos). Por ejemplo, ¿cómo podemos mejorar la búsqueda lineal de una lista? Podemos usar búsquedas de elementos sobre **conjuntos** (`set`) de Python. En el peor de los casos, está búsqueda solo toma $\\log(n)$ pasos (esto lo analizaremos más adelante). Como ejecutaremos esta búsqueda $n$ veces, la cantidad total de pasos que realizará será $n\\log(n)$ pasos."
   ]
  },
  {
   "cell_type": "code",
   "execution_count": null,
   "metadata": {},
   "outputs": [],
   "source": [
    "%%time  \n",
    "\n",
    "# ALGORITMO 1\n",
    "# Búsqueda lineal\n",
    "\n",
    "n = 50000\n",
    "numbers = [i+1 for i in range(n)] \n",
    "\n",
    "counter = 0\n",
    "\n",
    "for i in range(n):      \n",
    "    x = n               \n",
    "\n",
    "    if x in numbers:\n",
    "        counter += 1    \n",
    "\n",
    "counter"
   ]
  },
  {
   "cell_type": "code",
   "execution_count": null,
   "metadata": {},
   "outputs": [],
   "source": [
    "%%time\n",
    "\n",
    "# ALGORITMO 2\n",
    "# Búsqueda en conjuntos\n",
    "\n",
    "n = 50000\n",
    "numbers = set([i+1 for i in range(n)])\n",
    "counter = 0\n",
    "\n",
    "for i in range(n):\n",
    "    x = 1\n",
    "\n",
    "    if x in numbers:\n",
    "        counter += 1\n",
    "\n",
    "counter"
   ]
  },
  {
   "cell_type": "markdown",
   "metadata": {},
   "source": [
    "El Algoritmo1 (listas) tomá mucho más tiempo en ejecutarse que el Algoritmo2 (conjuntos) para un mismo valor de $n$. Ambos algoritmos realizan la misma tarea, pero el Algoritmo2 es más *eficiente* que el Algoritmo1, pues, en el peor de los casos, la cantidad de operaciones que realiza es considerablemente. \n",
    "\n",
    "Tener un algoritmo más eficiente, nos permite ejecutar valores de $n$ más grandes en un tiempo razonable. Por ejemplo, prueba ejecutar $n = 10000000 (10^7)$ en el Algoritmo2. El tiempo de ejecución será menos de cinco segundos (esto dependerá del hardware donde estemos trabajando). Mientras que intentar ejecutar $n = 10000000 (10^7)$ en el Algoritmo1, probablemente nos tome muchas horas o incluso días.\n",
    "\n",
    "En la computación, nos interesa plantear soluciones o algoritmos, lo más eficientes posibles, para resolver una tarea."
   ]
  }
 ],
 "metadata": {
  "kernelspec": {
   "display_name": ".env",
   "language": "python",
   "name": "python3"
  },
  "language_info": {
   "codemirror_mode": {
    "name": "ipython",
    "version": 3
   },
   "file_extension": ".py",
   "mimetype": "text/x-python",
   "name": "python",
   "nbconvert_exporter": "python",
   "pygments_lexer": "ipython3",
   "version": "3.11.7"
  }
 },
 "nbformat": 4,
 "nbformat_minor": 2
}
