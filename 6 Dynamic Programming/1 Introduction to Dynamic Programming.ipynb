{
 "cells": [
  {
   "cell_type": "markdown",
   "metadata": {},
   "source": [
    "# Programación Dinámica\n",
    "\n",
    "Programación dinámica es un paradigma de programación que nos permite resolver *problemas* combinando las soluciones de *subproblemas*. Este paradigma aplica cuando los subproblemas se superponen (*overlap*), es decir, los subproblemas comparten *subsubproblemas*. A diferencia de la recursión, en programación dinámica existe un concepto denominado *memoization* que básicamente consiste en resolver cada subsubproblema solamente una vez y guardarlo en alguna tabla. De esta manera, evitamos volver a calcular los subsubproblemas si ya está calculado, ya que obtenemos su valor de la tabla."
   ]
  },
  {
   "cell_type": "markdown",
   "metadata": {},
   "source": [
    "Veamos un ejemplo sencillo. La secuencia de fibonacci:"
   ]
  },
  {
   "cell_type": "code",
   "execution_count": null,
   "metadata": {},
   "outputs": [],
   "source": [
    "def fibo_recursive(n):\n",
    "    if n == 0:\n",
    "        return 0\n",
    "\n",
    "    if n == 1:\n",
    "        return 1\n",
    "\n",
    "    return fibo_recursive(n-1) + fibo_recursive(n-2)\n",
    "\n",
    "fibo_recursive(10)"
   ]
  },
  {
   "cell_type": "markdown",
   "metadata": {},
   "source": [
    "Esta implementación del fibonacci recursivo, ya vimos, en el anterior capítulo, que tiene una complejidad computacional exponencial. Esto debido a que constantemente resolvemos los mismos *subproblemas*. Por ejemplo, si queremos calcular $f(10)$, necesitamos calcular $f(9)$ y $f(8)$. Ahora, para calcular $f(9) = f(8) + f(7)$, tenemos que calcular $f(8)$. Es decir, para calcular $f(10)$, tenemos que calcular $f(8)$ **dos veces**. Por lo que podemos decir que los subproblemas se *superponen*.\n",
    "\n",
    "Ahora, añadiremos memoization a esta función recursiva:"
   ]
  },
  {
   "cell_type": "code",
   "execution_count": null,
   "metadata": {},
   "outputs": [],
   "source": [
    "# Vemos que la estructura es muy similar a la de una recursión\n",
    "# La diferencia es que primero preguntamos si el valor ha sido calculado\n",
    "# Y que cada valor calculado es guardado en la lista\n",
    "\n",
    "def fibo_dp(n, memo):\n",
    "    # Si el valor ya ha sido calculado, retornamos ese valor\n",
    "    if memo[n] != 0:\n",
    "        return memo[n]\n",
    "    \n",
    "    # Los casos base de Fibonacci\n",
    "    if n == 0:\n",
    "        return 0\n",
    "    \n",
    "    if n == 1:\n",
    "        return 1\n",
    "    \n",
    "    # Calculamos el n-ésimo término de la secuencia y lo guardamos en memo[n]\n",
    "    memo[n] = fibo_dp(n-1, memo) + fibo_dp(n-2, memo)\n",
    "\n",
    "    # Retornamos el valor calculado\n",
    "    return memo[n]\n",
    "\n",
    "\n",
    "n = 10\n",
    "memo = [0 for _ in range(n+1)] # Creamos la lista donde guardaremos los valores de la secuencia fibonacci\n",
    "                               # Inicialmente consiste de solo ceros, pues los valores aun no han sido calculados\n",
    "\n",
    "fibo_dp(10, memo)"
   ]
  },
  {
   "cell_type": "markdown",
   "metadata": {},
   "source": [
    "Con esto, podemos apreciar que cada valor será calculado a lo más una vez, ya que cada vez que necesitemos ese valor, ocurrirá una de dos:\n",
    "\n",
    "- Si el valor aun no ha sido calculado, lo calcularemos mediante la recursión\n",
    "- Si el valor ya ha sido calculado, lo consultamos en la tabla y retornaremos ese valor (no se recalculará)\n",
    "\n",
    "Así, con memoization, obtenemos una complejidad lineal ($O(n)$) en vez de una complejidad exponencial."
   ]
  }
 ],
 "metadata": {
  "kernelspec": {
   "display_name": ".env",
   "language": "python",
   "name": "python3"
  },
  "language_info": {
   "codemirror_mode": {
    "name": "ipython",
    "version": 3
   },
   "file_extension": ".py",
   "mimetype": "text/x-python",
   "name": "python",
   "nbconvert_exporter": "python",
   "pygments_lexer": "ipython3",
   "version": "3.11.9"
  }
 },
 "nbformat": 4,
 "nbformat_minor": 2
}
