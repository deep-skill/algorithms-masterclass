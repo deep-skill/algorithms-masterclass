{
 "cells": [
  {
   "cell_type": "markdown",
   "metadata": {},
   "source": [
    "# Rod Cutting problem\n",
    "\n",
    "Tenemos una cinta de $n$ centímetros. Nosotros podemos cortar esta cinta en trozos más pequeños (las longitudes de estos trozos deben ser enteros). También contamos con una tabla de precios $p_1, p_2, \\cdots, p_n$ donde $p_i$ nos indica el precio de venta que le daremos a una cinta de $i$ centímetros. Entonces, si nuestra cinta de $n$ centímetros inicialmente la cortamos en $k$ trozos de longitudes $l_1, l_2, \\cdots, l_k \\,(l_1+l_2+\\cdots+l_k = n)$, según la tabla de precios, el valor total de venta será $p_{l_1} + p_{l_2} + \\cdots + p_{l_k}$. Este problema, consiste en encontrar la mejor forma de cortar esta cinta para obtener el **mayor** precio de venta posible."
   ]
  },
  {
   "cell_type": "markdown",
   "metadata": {},
   "source": [
    "Sea $r_n$ el mayor precio que podamos obtener luego de cortar una cinta de $n$ centímetros en trozos. Supongamos que al cortar la cinta de $n$ centímetro, el primer trozo mide $i$ centímetros (lo venderemos a p_i), entonces nos sobrará $n-i$ centímetros. Estos $n-i$ centímetros ahora deben ser cortados de una forma óptima para conseguir el mejor resultado posible, es decir, lo venderemos a $r_{n-i}$. Con esto, podemos decir que\n",
    "\n",
    "$$r_n = p_i + r_{n-i}$$\n",
    "\n",
    "Y como $i$ puede tomar un valor de $1$ a $n$, debemos encontrar aquel $i$ que maximize a $r_n$.\n",
    "\n",
    "$$r_n = \\max \\{p_i + r_{n-i} : 1\\le i\\le n\\}$$"
   ]
  },
  {
   "cell_type": "markdown",
   "metadata": {},
   "source": [
    "Para conseguir el valor óptimo de un problema, debemos calcular el valor óptimo de los subproblemas. "
   ]
  },
  {
   "cell_type": "markdown",
   "metadata": {},
   "source": [
    "## Implementación"
   ]
  },
  {
   "cell_type": "code",
   "execution_count": null,
   "metadata": {},
   "outputs": [],
   "source": [
    "# Recursive top-down\n",
    "\n",
    "def cut_rod(p, n):\n",
    "    if n == 0:\n",
    "        return 0\n",
    "\n",
    "    res = -1e18\n",
    "\n",
    "    for i in range(1, n+1):\n",
    "        q = max(q, p[i] + cut_rod(p, n-i))\n",
    "\n",
    "    return q\n",
    "\n",
    "# Complexity = O(2 ^ n)"
   ]
  },
  {
   "cell_type": "code",
   "execution_count": null,
   "metadata": {},
   "outputs": [],
   "source": [
    "# Top-down with memoization\n",
    "\n",
    "def memo_cut_rod_aux(p, n, r):\n",
    "    if r[n] >= 0:\n",
    "        return r[n]\n",
    "    \n",
    "    if n == 0:\n",
    "        q = 0\n",
    "    else:\n",
    "        q = -1e18\n",
    "        for i in range(1, n+1):\n",
    "            q = max(q, p[i] + memo_cut_rod_aux(p, n-i, r))\n",
    "    \n",
    "        r[n] = q\n",
    "        return q\n",
    "    \n",
    "\n",
    "def memo_cut_rod(p, n):\n",
    "    r = [-1e18 for i in range(n+1)]\n",
    "\n",
    "    return memo_cut_rod_aux(p, n, r)"
   ]
  },
  {
   "cell_type": "code",
   "execution_count": null,
   "metadata": {},
   "outputs": [],
   "source": [
    "# Bottom up\n",
    "\n",
    "def bottom_up_cut_rod(p, n):\n",
    "    r = [-1e18 for i in range(n+1)]\n",
    "    r[0] = 0\n",
    "\n",
    "    for j in range(1, n+1):\n",
    "        q = -1e18\n",
    "        for i in range(1, j + 1):\n",
    "            q = max(q, p[i] + r[j-i])\n",
    "\n",
    "        r[j] = q\n",
    "\n",
    "    return r[n]"
   ]
  },
  {
   "cell_type": "markdown",
   "metadata": {},
   "source": [
    "Ver problemas clásicos de Programación Dinámica:\n",
    "\n",
    "1. Coin change\n",
    "2. Rod cutting\n",
    "3. Matrix Chain Multiplication\n",
    "4. Longest Common Subsequence\n",
    "5. Edit distance"
   ]
  }
 ],
 "metadata": {
  "kernelspec": {
   "display_name": ".env",
   "language": "python",
   "name": "python3"
  },
  "language_info": {
   "name": "python",
   "version": "3.11.9"
  }
 },
 "nbformat": 4,
 "nbformat_minor": 2
}
