{
 "cells": [
  {
   "cell_type": "markdown",
   "metadata": {},
   "source": [
    "# Recursión\n",
    "\n",
    "El concepto de recursión hace referencia a una función que se llama a si misma para poder resolver un problema. Esta técnica es útil cuando un problema puede descomponerse en subproblemas más pequeños y similares al original.\n",
    "\n",
    "Existen muchas funciones recursivas (matemáticas) muy conocidas. Por ejemplo, primero veamos al cálculo del factorial de un número:\n",
    "\n",
    "$$0! = 1$$\n",
    "\n",
    "$$n!=n\\times (n-1)\\times (n-2)\\times \\cdots\\times 1, \\forall\\; n \\ge 1$$\n",
    "\n",
    "Es sencillo observar, que podemos reescribirlo de la siguiente manera\n",
    "\n",
    "$$n! = n \\times (n-1)!, \\forall\\; n\\ge 1$$\n",
    "\n",
    "Y por último, escribiremos al factorial como una función de $n$\n",
    "\n",
    "$$\\text{factorial}(n) = n! \\Rightarrow \\text{factorial}(n)=n\\times\\text{factorial}(n-1), \\forall n\\ge 1$$\n",
    "\n",
    "Observamos que se trata de una función recursiva, ya que para resolverse tiene que llamarse a si misma. Además, llevarlo a código es muy simple:"
   ]
  },
  {
   "cell_type": "code",
   "execution_count": null,
   "metadata": {},
   "outputs": [],
   "source": [
    "def factorial(n):\n",
    "    return n * factorial(n-1)\n",
    "\n",
    "factorial(10)"
   ]
  },
  {
   "cell_type": "markdown",
   "metadata": {},
   "source": [
    "El código planteado tiene un problema. Si intentamos ejecutarlo, seguramente obtendremos un error. Esto debido a que la función no terminará jamás y se ejecutará infinitamente (cuando Python detecta que una función se llama recursivamente más de 1000 veces retornará un error, aunque esta cantidad es configurable). Necesitamos especificar en qué caso va a terminar la función de ejecutarse. A esto, se le conoce como **caso base**. Para la función factorial, el caso base es $0!=1$."
   ]
  },
  {
   "cell_type": "code",
   "execution_count": null,
   "metadata": {},
   "outputs": [],
   "source": [
    "def factorial(n):\n",
    "    if n == 0:\n",
    "        return 1\n",
    "    \n",
    "    return n * factorial(n-1)\n",
    "\n",
    "factorial(10)"
   ]
  },
  {
   "cell_type": "markdown",
   "metadata": {},
   "source": [
    "Toda función recursiva consta de dos partes:\n",
    "\n",
    "1. **Caso base**: Es el caso que cortará las llamadas recursiva y retornará un valor.\n",
    "2. **Paso recursivo**: Es el paso donde la función se llama a sí misma para resolverse."
   ]
  },
  {
   "cell_type": "code",
   "execution_count": null,
   "metadata": {},
   "outputs": [],
   "source": [
    "def factorial(n):\n",
    "    # Caso recursivo\n",
    "    if n == 0:\n",
    "        return 1\n",
    "    \n",
    "    # Paso recursivo\n",
    "    return n * factorial(n-1)\n",
    "\n",
    "factorial(10)"
   ]
  },
  {
   "cell_type": "markdown",
   "metadata": {},
   "source": [
    "Otro ejemplo muy famoso es la secuencia Fibonacci:\n",
    "\n",
    "$$f(0) = 0, f(1) = 1$$\n",
    "\n",
    "$$f(n) = f(n-1) + f(n-2), \\forall\\; n \\ge 2$$\n",
    "\n",
    "En este caso, no solo existe un caso baso, sino dos:"
   ]
  },
  {
   "cell_type": "code",
   "execution_count": null,
   "metadata": {},
   "outputs": [],
   "source": [
    "def fibo(n):\n",
    "    if n == 0:\n",
    "        return 0\n",
    "    if n == 1:\n",
    "        return 1\n",
    "    \n",
    "    return fibo(n-1) + fibo(n-2)\n",
    "\n",
    "fibo(10)"
   ]
  },
  {
   "cell_type": "markdown",
   "metadata": {},
   "source": [
    "Pero ahora, ¿cuál es la complejidad computacional de esta función? (se verá en clase)."
   ]
  },
  {
   "cell_type": "markdown",
   "metadata": {},
   "source": [
    "Existen más ejemplos de funciones recursivas (se recomienda implementar para practicar).\n",
    "\n",
    "1. Máximo común divisor\n",
    "\n",
    "    $$gcd(a, 0) = a, \\forall\\; 0 < a$$\n",
    "\n",
    "    $$gcd(a, b) = gcd(a \\% b, b), \\forall\\; 0 < b \\le a$$\n",
    "\n",
    "2. Coeficiente binomial\n",
    "\n",
    "    $${{n}\\choose {r}}= 1, \\forall\\; n=0 \\text{ ó } r=n$$\n",
    "\n",
    "    $${n \\choose r} = {n-1 \\choose r-1} + {n-1 \\choose r}, \\forall\\; 0 < r < n$$\n",
    "\n",
    "3. Números de catalán\n",
    "\n",
    "    $$C_0 = 1$$\n",
    "\n",
    "    $$C_n = \\sum_{k=0}^{n-1}C_kC_{n-1-k},\\forall\\; 1 \\le n$$\n",
    "\n",
    "4. Las torres de Hanoi"
   ]
  }
 ],
 "metadata": {
  "kernelspec": {
   "display_name": ".env",
   "language": "python",
   "name": "python3"
  },
  "language_info": {
   "codemirror_mode": {
    "name": "ipython",
    "version": 3
   },
   "file_extension": ".py",
   "mimetype": "text/x-python",
   "name": "python",
   "nbconvert_exporter": "python",
   "pygments_lexer": "ipython3",
   "version": "3.11.9"
  }
 },
 "nbformat": 4,
 "nbformat_minor": 2
}
