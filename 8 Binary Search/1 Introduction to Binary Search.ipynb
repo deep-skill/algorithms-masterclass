{
 "cells": [
  {
   "cell_type": "markdown",
   "metadata": {},
   "source": [
    "# Binary Search\n",
    "\n",
    "Para entender que es búsqueda binaria, primero comencemos con el siguiente juego. La computadora va a generar un número aleatorio y pasa lo siguiente\n",
    "\n",
    "1. Intentas adivinar el número\n",
    "2. Si aciertas, termina el juego\n",
    "3. Si tu número es menor, la computadora te avisa que tu número es menor y repetimos el paso 1\n",
    "4. Si tu número es mayor, la computadora te avisa que tu número es mayor y repetimos el paso 1"
   ]
  },
  {
   "cell_type": "code",
   "execution_count": null,
   "metadata": {},
   "outputs": [],
   "source": [
    "def compare(secret_num, user_num):\n",
    "    if secret_num == user_num:\n",
    "        return (0, '¡Felicidades! Has encontrado el número secreto')\n",
    "    elif user_num < secret_num:\n",
    "        return (-1, 'El número que has digitado es menor al número secreto')\n",
    "    else:\n",
    "        return (1, 'El número que has digitado es mayor al número secreto')"
   ]
  },
  {
   "cell_type": "code",
   "execution_count": null,
   "metadata": {},
   "outputs": [],
   "source": [
    "import random\n",
    "\n",
    "L = 1\n",
    "R = 1000000\n",
    "\n",
    "secret_num = random.randint(L, R)\n",
    "num_steps = 0\n",
    "\n",
    "while True:\n",
    "    user_num = int(input('Intente adivinar el número: '))\n",
    "    num_steps += 1\n",
    "\n",
    "    result, message = compare(secret_num, user_num)\n",
    "\n",
    "    print(message)\n",
    "\n",
    "    if result == 0:\n",
    "        break\n",
    "\n",
    "print(f'El número de pasos que tomó antes de encontrar el número secreto es: {num_steps}')"
   ]
  },
  {
   "cell_type": "markdown",
   "metadata": {},
   "source": [
    "¿Cuál sería la mejor estrategia para encontrar el número secreto?\n",
    "\n",
    "Vamos a crear un bot que pueda jugar nuestro juego:"
   ]
  },
  {
   "cell_type": "code",
   "execution_count": null,
   "metadata": {},
   "outputs": [],
   "source": [
    "L = 1\n",
    "R = 1000000\n",
    "\n",
    "secret_num = random.randint(L, R)\n",
    "num_steps = 0\n",
    "\n",
    "for i in range(L, R+1):\n",
    "    bot_num = i\n",
    "    num_steps += 1\n",
    "\n",
    "    result, message = compare(secret_num, bot_num)\n",
    "\n",
    "    if result == 0:\n",
    "        break\n",
    "\n",
    "print(f'El número de pasos que tomó antes de encontrar el número secreto es: {num_steps}')"
   ]
  },
  {
   "cell_type": "markdown",
   "metadata": {},
   "source": [
    "Este bot inicia a probar todos los número desde $L$ hasta $R$. En el peor de los casos el número secreto será $R$ y tomará muchos pases antes de encontrar al número secreto."
   ]
  },
  {
   "cell_type": "code",
   "execution_count": null,
   "metadata": {},
   "outputs": [],
   "source": [
    "L = 1\n",
    "R = 1000000\n",
    "\n",
    "secret_num = random.randint(L, R)\n",
    "num_steps = 0\n",
    "\n",
    "while True:\n",
    "    bot_num = (L + R) // 2\n",
    "    num_steps += 1\n",
    "\n",
    "    result, message = compare(secret_num, bot_num)\n",
    "\n",
    "    if result == 0:\n",
    "        break\n",
    "    elif result == -1:\n",
    "        L = bot_num + 1\n",
    "    else:\n",
    "        R = bot_num - 1\n",
    "\n",
    "print(f'El número de pasos que tomó antes de encontrar el número secreto es: {num_steps}')"
   ]
  },
  {
   "cell_type": "markdown",
   "metadata": {},
   "source": [
    "En este otro caso, el bot va reduciendo su espacio de búsqueda en la mitad en cada paso. Por lo que le tomará $O(log N)$ pasos, en el peor de los casos, para encontrar el número secreto."
   ]
  }
 ],
 "metadata": {
  "kernelspec": {
   "display_name": ".env",
   "language": "python",
   "name": "python3"
  },
  "language_info": {
   "codemirror_mode": {
    "name": "ipython",
    "version": 3
   },
   "file_extension": ".py",
   "mimetype": "text/x-python",
   "name": "python",
   "nbconvert_exporter": "python",
   "pygments_lexer": "ipython3",
   "version": "3.11.9"
  }
 },
 "nbformat": 4,
 "nbformat_minor": 2
}
